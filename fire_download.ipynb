{
 "cells": [
  {
   "cell_type": "markdown",
   "metadata": {},
   "source": [
    "# HDF download"
   ]
  },
  {
   "cell_type": "code",
   "execution_count": 11,
   "metadata": {},
   "outputs": [],
   "source": [
    "import numpy as np\n",
    "import pandas as pd\n",
    "from datetime import datetime, timedelta\n",
    "\n",
    "import fire.downloader as fdown\n",
    "import fire.utils.io as uio\n",
    "import fire.utils.modis as umod"
   ]
  },
  {
   "cell_type": "markdown",
   "metadata": {},
   "source": [
    "# Get URLs to download\n",
    "\n",
    "Get pre-collected urls of all MOD14A1 hdf files."
   ]
  },
  {
   "cell_type": "code",
   "execution_count": 2,
   "metadata": {},
   "outputs": [
    {
     "name": "stdout",
     "output_type": "stream",
     "text": [
      "Count:   269856\n"
     ]
    },
    {
     "data": {
      "text/plain": [
       "['https://e4ftl01.cr.usgs.gov/MOLT/MOD14A1.006/2000.02.18/MOD14A1.A2000049.h00v08.006.2015041132347.hdf',\n",
       " 'https://e4ftl01.cr.usgs.gov/MOLT/MOD14A1.006/2000.02.18/MOD14A1.A2000049.h00v09.006.2015041132244.hdf',\n",
       " 'https://e4ftl01.cr.usgs.gov/MOLT/MOD14A1.006/2000.02.18/MOD14A1.A2000049.h00v10.006.2015041132152.hdf',\n",
       " 'https://e4ftl01.cr.usgs.gov/MOLT/MOD14A1.006/2000.02.18/MOD14A1.A2000049.h01v07.006.2015041130011.hdf',\n",
       " 'https://e4ftl01.cr.usgs.gov/MOLT/MOD14A1.006/2000.02.18/MOD14A1.A2000049.h01v08.006.2015041131418.hdf']"
      ]
     },
     "execution_count": 2,
     "metadata": {},
     "output_type": "execute_result"
    }
   ],
   "source": [
    "mod14a1_urls = uio.read_lines(\"../data/_urls/MOD14A1.006.txt\")\n",
    "print(\"Count:  \", len(mod14a1_urls))\n",
    "mod14a1_urls[:5]"
   ]
  },
  {
   "cell_type": "code",
   "execution_count": 3,
   "metadata": {},
   "outputs": [
    {
     "data": {
      "text/html": [
       "<div>\n",
       "<style scoped>\n",
       "    .dataframe tbody tr th:only-of-type {\n",
       "        vertical-align: middle;\n",
       "    }\n",
       "\n",
       "    .dataframe tbody tr th {\n",
       "        vertical-align: top;\n",
       "    }\n",
       "\n",
       "    .dataframe thead th {\n",
       "        text-align: right;\n",
       "    }\n",
       "</style>\n",
       "<table border=\"1\" class=\"dataframe\">\n",
       "  <thead>\n",
       "    <tr style=\"text-align: right;\">\n",
       "      <th></th>\n",
       "      <th>url</th>\n",
       "      <th>fname</th>\n",
       "      <th>sat_name</th>\n",
       "      <th>fname_date</th>\n",
       "      <th>h</th>\n",
       "      <th>v</th>\n",
       "    </tr>\n",
       "  </thead>\n",
       "  <tbody>\n",
       "    <tr>\n",
       "      <th>0</th>\n",
       "      <td>https://e4ftl01.cr.usgs.gov/MOLT/MOD14A1.006/2...</td>\n",
       "      <td>MOD14A1.A2000049.h00v08.006.2015041132347.hdf</td>\n",
       "      <td>MOD</td>\n",
       "      <td>2000-02-18</td>\n",
       "      <td>0</td>\n",
       "      <td>8</td>\n",
       "    </tr>\n",
       "    <tr>\n",
       "      <th>1</th>\n",
       "      <td>https://e4ftl01.cr.usgs.gov/MOLT/MOD14A1.006/2...</td>\n",
       "      <td>MOD14A1.A2000049.h00v09.006.2015041132244.hdf</td>\n",
       "      <td>MOD</td>\n",
       "      <td>2000-02-18</td>\n",
       "      <td>0</td>\n",
       "      <td>9</td>\n",
       "    </tr>\n",
       "    <tr>\n",
       "      <th>2</th>\n",
       "      <td>https://e4ftl01.cr.usgs.gov/MOLT/MOD14A1.006/2...</td>\n",
       "      <td>MOD14A1.A2000049.h00v10.006.2015041132152.hdf</td>\n",
       "      <td>MOD</td>\n",
       "      <td>2000-02-18</td>\n",
       "      <td>0</td>\n",
       "      <td>10</td>\n",
       "    </tr>\n",
       "    <tr>\n",
       "      <th>3</th>\n",
       "      <td>https://e4ftl01.cr.usgs.gov/MOLT/MOD14A1.006/2...</td>\n",
       "      <td>MOD14A1.A2000049.h01v07.006.2015041130011.hdf</td>\n",
       "      <td>MOD</td>\n",
       "      <td>2000-02-18</td>\n",
       "      <td>1</td>\n",
       "      <td>7</td>\n",
       "    </tr>\n",
       "    <tr>\n",
       "      <th>4</th>\n",
       "      <td>https://e4ftl01.cr.usgs.gov/MOLT/MOD14A1.006/2...</td>\n",
       "      <td>MOD14A1.A2000049.h01v08.006.2015041131418.hdf</td>\n",
       "      <td>MOD</td>\n",
       "      <td>2000-02-18</td>\n",
       "      <td>1</td>\n",
       "      <td>8</td>\n",
       "    </tr>\n",
       "  </tbody>\n",
       "</table>\n",
       "</div>"
      ],
      "text/plain": [
       "                                                 url  \\\n",
       "0  https://e4ftl01.cr.usgs.gov/MOLT/MOD14A1.006/2...   \n",
       "1  https://e4ftl01.cr.usgs.gov/MOLT/MOD14A1.006/2...   \n",
       "2  https://e4ftl01.cr.usgs.gov/MOLT/MOD14A1.006/2...   \n",
       "3  https://e4ftl01.cr.usgs.gov/MOLT/MOD14A1.006/2...   \n",
       "4  https://e4ftl01.cr.usgs.gov/MOLT/MOD14A1.006/2...   \n",
       "\n",
       "                                           fname sat_name fname_date  h   v  \n",
       "0  MOD14A1.A2000049.h00v08.006.2015041132347.hdf      MOD 2000-02-18  0   8  \n",
       "1  MOD14A1.A2000049.h00v09.006.2015041132244.hdf      MOD 2000-02-18  0   9  \n",
       "2  MOD14A1.A2000049.h00v10.006.2015041132152.hdf      MOD 2000-02-18  0  10  \n",
       "3  MOD14A1.A2000049.h01v07.006.2015041130011.hdf      MOD 2000-02-18  1   7  \n",
       "4  MOD14A1.A2000049.h01v08.006.2015041131418.hdf      MOD 2000-02-18  1   8  "
      ]
     },
     "execution_count": 3,
     "metadata": {},
     "output_type": "execute_result"
    }
   ],
   "source": [
    "hdf_index = umod.make_hdf_index_from_paths(mod14a1_urls)\n",
    "hdf_index.head()"
   ]
  },
  {
   "cell_type": "markdown",
   "metadata": {},
   "source": [
    "We are interested in Spain, thus MODIS tile (v=4, h=17). Also we are only interested in data since 2010. Filter!"
   ]
  },
  {
   "cell_type": "code",
   "execution_count": 4,
   "metadata": {},
   "outputs": [
    {
     "name": "stdout",
     "output_type": "stream",
     "text": [
      "Earliest hdf file date for 2010:   2009-12-24 00:00:00\n",
      "Count:   466\n"
     ]
    },
    {
     "data": {
      "text/plain": [
       "['https://e4ftl01.cr.usgs.gov/MOLT/MOD14A1.006/2009.12.27/MOD14A1.A2009361.h17v04.006.2015198031301.hdf',\n",
       " 'https://e4ftl01.cr.usgs.gov/MOLT/MOD14A1.006/2010.01.01/MOD14A1.A2010001.h17v04.006.2015198041536.hdf',\n",
       " 'https://e4ftl01.cr.usgs.gov/MOLT/MOD14A1.006/2010.01.09/MOD14A1.A2010009.h17v04.006.2015198101258.hdf',\n",
       " 'https://e4ftl01.cr.usgs.gov/MOLT/MOD14A1.006/2010.01.17/MOD14A1.A2010017.h17v04.006.2015198095435.hdf',\n",
       " 'https://e4ftl01.cr.usgs.gov/MOLT/MOD14A1.006/2010.01.25/MOD14A1.A2010025.h17v04.006.2015198191738.hdf']"
      ]
     },
     "execution_count": 4,
     "metadata": {},
     "output_type": "execute_result"
    }
   ],
   "source": [
    "# MODIS HDF files typically have 8 days of data, thus subtract 8 days of 2010-01-01\n",
    "earliest_modis_date_2010 = datetime.strptime(\"2010-01-01\", r\"%Y-%m-%d\")\n",
    "earliest_modis_date_2010 -= timedelta(days=8)\n",
    "print(\"Earliest hdf file date for 2010:  \", earliest_modis_date_2010)\n",
    "\n",
    "hdf_urls_spain_since_2010 = (\n",
    "    hdf_index\n",
    "    .query(\"h==17 & v==4\")\n",
    "    .query(\"fname_date >= @earliest_modis_date_2010\")\n",
    "    [\"url\"]\n",
    "    .to_list()\n",
    ")\n",
    "\n",
    "print(\"Count:  \", len(hdf_urls_spain_since_2010))\n",
    "hdf_urls_spain_since_2010[:5]"
   ]
  },
  {
   "cell_type": "markdown",
   "metadata": {},
   "source": [
    "# Make target paths"
   ]
  },
  {
   "cell_type": "code",
   "execution_count": 5,
   "metadata": {},
   "outputs": [
    {
     "data": {
      "text/plain": [
       "['../data/MOD14A1.006/2009.12.27/MOD14A1.A2009361.h17v04.006.2015198031301.hdf',\n",
       " '../data/MOD14A1.006/2010.01.01/MOD14A1.A2010001.h17v04.006.2015198041536.hdf',\n",
       " '../data/MOD14A1.006/2010.01.09/MOD14A1.A2010009.h17v04.006.2015198101258.hdf',\n",
       " '../data/MOD14A1.006/2010.01.17/MOD14A1.A2010017.h17v04.006.2015198095435.hdf',\n",
       " '../data/MOD14A1.006/2010.01.25/MOD14A1.A2010025.h17v04.006.2015198191738.hdf']"
      ]
     },
     "execution_count": 5,
     "metadata": {},
     "output_type": "execute_result"
    }
   ],
   "source": [
    "# Make target paths\n",
    "target_paths = [umod.default_target_path_scheme(url, \"../data/\") for url in hdf_urls_spain_since_2010]\n",
    "target_paths[:5]"
   ]
  },
  {
   "cell_type": "markdown",
   "metadata": {},
   "source": [
    "# Download"
   ]
  },
  {
   "cell_type": "code",
   "execution_count": 6,
   "metadata": {},
   "outputs": [],
   "source": [
    "# get user and password for LPDAAC\n",
    "user_pwd = fdown.get_auth_from_netrc('urs.earthdata.nasa.gov')"
   ]
  },
  {
   "cell_type": "code",
   "execution_count": 13,
   "metadata": {},
   "outputs": [
    {
     "name": "stdout",
     "output_type": "stream",
     "text": [
      "Downloading 466 files.\n",
      "\n",
      "processed 457/466, est. time left: 0.0 m                                           \n",
      "   total time: 0.0 m\n",
      "processed 455/466, est. time left: 0.0 m   \n",
      "\n",
      "\n",
      "466/466 files downloaded successfully (100.0 %)\n"
     ]
    }
   ],
   "source": [
    "successes = fdown.fetch_many_files(hdf_urls_spain_since_2010, target_paths, user_pwd)"
   ]
  }
 ],
 "metadata": {
  "kernelspec": {
   "display_name": "mt",
   "language": "python",
   "name": "mt"
  },
  "language_info": {
   "codemirror_mode": {
    "name": "ipython",
    "version": 3
   },
   "file_extension": ".py",
   "mimetype": "text/x-python",
   "name": "python",
   "nbconvert_exporter": "python",
   "pygments_lexer": "ipython3",
   "version": "3.7.6"
  }
 },
 "nbformat": 4,
 "nbformat_minor": 4
}
