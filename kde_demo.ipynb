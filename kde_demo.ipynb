{
 "cells": [
  {
   "cell_type": "code",
   "execution_count": 1,
   "metadata": {},
   "outputs": [],
   "source": [
    "from sklearn.neighbors import KernelDensity\n",
    "import pandas as pd\n",
    "import numpy as np\n",
    "\n",
    "import fire.utils.io as uio"
   ]
  },
  {
   "cell_type": "code",
   "execution_count": 16,
   "metadata": {},
   "outputs": [
    {
     "data": {
      "text/html": [
       "<div>\n",
       "<style scoped>\n",
       "    .dataframe tbody tr th:only-of-type {\n",
       "        vertical-align: middle;\n",
       "    }\n",
       "\n",
       "    .dataframe tbody tr th {\n",
       "        vertical-align: top;\n",
       "    }\n",
       "\n",
       "    .dataframe thead th {\n",
       "        text-align: right;\n",
       "    }\n",
       "</style>\n",
       "<table border=\"1\" class=\"dataframe\">\n",
       "  <thead>\n",
       "    <tr style=\"text-align: right;\">\n",
       "      <th></th>\n",
       "      <th>lat</th>\n",
       "      <th>lon</th>\n",
       "      <th>fire_val</th>\n",
       "      <th>date</th>\n",
       "    </tr>\n",
       "  </thead>\n",
       "  <tbody>\n",
       "    <tr>\n",
       "      <th>0</th>\n",
       "      <td>43.537500</td>\n",
       "      <td>-5.833947</td>\n",
       "      <td>8</td>\n",
       "      <td>2019-04-28</td>\n",
       "    </tr>\n",
       "    <tr>\n",
       "      <th>1</th>\n",
       "      <td>43.537500</td>\n",
       "      <td>-5.822452</td>\n",
       "      <td>8</td>\n",
       "      <td>2019-04-28</td>\n",
       "    </tr>\n",
       "    <tr>\n",
       "      <th>2</th>\n",
       "      <td>42.354167</td>\n",
       "      <td>-3.647975</td>\n",
       "      <td>8</td>\n",
       "      <td>2019-04-28</td>\n",
       "    </tr>\n",
       "    <tr>\n",
       "      <th>3</th>\n",
       "      <td>42.595833</td>\n",
       "      <td>-1.454647</td>\n",
       "      <td>8</td>\n",
       "      <td>2019-04-30</td>\n",
       "    </tr>\n",
       "    <tr>\n",
       "      <th>4</th>\n",
       "      <td>42.045833</td>\n",
       "      <td>-8.298441</td>\n",
       "      <td>8</td>\n",
       "      <td>2019-04-30</td>\n",
       "    </tr>\n",
       "  </tbody>\n",
       "</table>\n",
       "</div>"
      ],
      "text/plain": [
       "         lat       lon  fire_val        date\n",
       "0  43.537500 -5.833947         8  2019-04-28\n",
       "1  43.537500 -5.822452         8  2019-04-28\n",
       "2  42.354167 -3.647975         8  2019-04-28\n",
       "3  42.595833 -1.454647         8  2019-04-30\n",
       "4  42.045833 -8.298441         8  2019-04-30"
      ]
     },
     "execution_count": 16,
     "metadata": {},
     "output_type": "execute_result"
    }
   ],
   "source": [
    "fire_data = pd.read_csv(\"fire/samples_fires.csv\")\n",
    "fire_data.head()\n"
   ]
  },
  {
   "cell_type": "code",
   "execution_count": 2,
   "metadata": {},
   "outputs": [
    {
     "data": {
      "text/html": [
       "<div>\n",
       "<style scoped>\n",
       "    .dataframe tbody tr th:only-of-type {\n",
       "        vertical-align: middle;\n",
       "    }\n",
       "\n",
       "    .dataframe tbody tr th {\n",
       "        vertical-align: top;\n",
       "    }\n",
       "\n",
       "    .dataframe thead th {\n",
       "        text-align: right;\n",
       "    }\n",
       "</style>\n",
       "<table border=\"1\" class=\"dataframe\">\n",
       "  <thead>\n",
       "    <tr style=\"text-align: right;\">\n",
       "      <th></th>\n",
       "      <th>Unnamed: 0</th>\n",
       "      <th>lat</th>\n",
       "      <th>lon</th>\n",
       "      <th>type</th>\n",
       "      <th>subtype</th>\n",
       "    </tr>\n",
       "  </thead>\n",
       "  <tbody>\n",
       "    <tr>\n",
       "      <th>0</th>\n",
       "      <td>0</td>\n",
       "      <td>41.875760</td>\n",
       "      <td>-8.838838</td>\n",
       "      <td>place</td>\n",
       "      <td>town</td>\n",
       "    </tr>\n",
       "    <tr>\n",
       "      <th>1</th>\n",
       "      <td>1</td>\n",
       "      <td>42.113041</td>\n",
       "      <td>-8.259342</td>\n",
       "      <td>place</td>\n",
       "      <td>town</td>\n",
       "    </tr>\n",
       "    <tr>\n",
       "      <th>2</th>\n",
       "      <td>2</td>\n",
       "      <td>41.940391</td>\n",
       "      <td>-8.743607</td>\n",
       "      <td>place</td>\n",
       "      <td>town</td>\n",
       "    </tr>\n",
       "    <tr>\n",
       "      <th>3</th>\n",
       "      <td>3</td>\n",
       "      <td>42.078702</td>\n",
       "      <td>-8.481390</td>\n",
       "      <td>place</td>\n",
       "      <td>town</td>\n",
       "    </tr>\n",
       "    <tr>\n",
       "      <th>4</th>\n",
       "      <td>4</td>\n",
       "      <td>42.027045</td>\n",
       "      <td>-8.642883</td>\n",
       "      <td>place</td>\n",
       "      <td>town</td>\n",
       "    </tr>\n",
       "  </tbody>\n",
       "</table>\n",
       "</div>"
      ],
      "text/plain": [
       "   Unnamed: 0        lat       lon   type subtype\n",
       "0           0  41.875760 -8.838838  place    town\n",
       "1           1  42.113041 -8.259342  place    town\n",
       "2           2  41.940391 -8.743607  place    town\n",
       "3           3  42.078702 -8.481390  place    town\n",
       "4           4  42.027045 -8.642883  place    town"
      ]
     },
     "execution_count": 2,
     "metadata": {},
     "output_type": "execute_result"
    }
   ],
   "source": [
    "tourism_data = pd.read_csv(\"tourism/data.csv\")\n",
    "tourism_data.head()\n"
   ]
  },
  {
   "cell_type": "code",
   "execution_count": 10,
   "metadata": {},
   "outputs": [
    {
     "data": {
      "text/plain": [
       "(3707, 2)"
      ]
     },
     "execution_count": 10,
     "metadata": {},
     "output_type": "execute_result"
    }
   ],
   "source": [
    "X = (\n",
    "    tourism_data\n",
    "    .query(\"type == 'tourism'\")\n",
    "    .loc[:,[\"lat\",\"lon\"]]\n",
    "    .to_numpy()\n",
    ")\n",
    "X.shape"
   ]
  },
  {
   "cell_type": "code",
   "execution_count": 18,
   "metadata": {},
   "outputs": [],
   "source": [
    "X = fire_data.loc[:, [\"lat\",\"lon\"]].to_numpy()"
   ]
  },
  {
   "cell_type": "code",
   "execution_count": 32,
   "metadata": {},
   "outputs": [],
   "source": [
    "X = tourism_data.loc[:, [\"lat\",\"lon\"]].to_numpy()"
   ]
  },
  {
   "cell_type": "code",
   "execution_count": 18,
   "metadata": {},
   "outputs": [
    {
     "data": {
      "text/plain": [
       "KernelDensity(algorithm='auto', atol=0, bandwidth=0.1, breadth_first=True,\n",
       "              kernel='gaussian', leaf_size=40, metric='haversine',\n",
       "              metric_params=None, rtol=0)"
      ]
     },
     "execution_count": 18,
     "metadata": {},
     "output_type": "execute_result"
    }
   ],
   "source": [
    "kde = KernelDensity(metric=\"haversine\", bandwidth=.1)\n",
    "kde.fit(X)"
   ]
  },
  {
   "cell_type": "code",
   "execution_count": 19,
   "metadata": {},
   "outputs": [
    {
     "data": {
      "text/plain": [
       "array([1.33181801, 2.23826238, 1.29549759, 1.09744336, 0.90908994,\n",
       "       0.94008518, 2.03852754, 0.7282986 , 1.26093771, 1.27479427,\n",
       "       1.22257655, 1.23784958, 2.06560794, 2.07206497, 2.06941783,\n",
       "       2.17941532, 0.74571355, 0.56316085, 0.59255366, 2.18095897,\n",
       "       2.07750168, 2.07238053, 2.05834454, 2.18182987, 1.46739502,\n",
       "       1.52272562, 0.68042309, 1.9345852 , 0.34516623, 0.3245592 ,\n",
       "       0.36845426, 0.36826196, 1.2278001 , 1.22645298, 1.23974906,\n",
       "       0.5020943 , 0.37949646, 0.99997699, 0.15324454, 0.16018421,\n",
       "       0.16067914, 0.16069251, 0.15763724, 0.93683063, 0.93394744,\n",
       "       0.78555529, 0.78466591, 1.42129259, 1.43127206, 0.94786934,\n",
       "       0.17555193, 0.17516531, 0.31511639, 1.90270142, 1.72410342,\n",
       "       1.86820389, 0.54472895, 0.5432865 , 1.4801853 , 0.81689772,\n",
       "       0.68752085, 0.38718309, 0.67013031, 1.04908047, 1.05234537,\n",
       "       2.02181247, 0.64334353, 1.04183365, 2.19925002, 2.19700888,\n",
       "       0.30262165, 0.27086521, 0.15642905, 0.44991447, 0.44632293,\n",
       "       0.66997306, 0.97825523, 0.98656228, 0.45925509, 0.74971806,\n",
       "       0.74939152, 0.72937559, 1.07995449, 1.07987571, 0.61618307,\n",
       "       0.25295408, 0.3639539 , 0.97790665, 1.31886262, 1.31806595,\n",
       "       2.17858177, 2.17951188, 2.17094657, 2.17278575, 2.17667749,\n",
       "       0.10345895, 1.48468197, 1.48456825, 0.42799399, 0.2318229 ])"
      ]
     },
     "execution_count": 19,
     "metadata": {},
     "output_type": "execute_result"
    }
   ],
   "source": [
    "np.exp(kde.score_samples(X[:100]))"
   ]
  },
  {
   "cell_type": "code",
   "execution_count": 20,
   "metadata": {},
   "outputs": [
    {
     "data": {
      "text/plain": [
       "array([2.00807241e-25])"
      ]
     },
     "execution_count": 20,
     "metadata": {},
     "output_type": "execute_result"
    }
   ],
   "source": [
    "np.exp(kde.score_samples(np.array([[0,-10]])))"
   ]
  },
  {
   "cell_type": "code",
   "execution_count": null,
   "metadata": {},
   "outputs": [],
   "source": [
    "# hyperparameter\n",
    "# bandwidth\n",
    "# different bandwidths for diff. types / subtypes"
   ]
  }
 ],
 "metadata": {
  "kernelspec": {
   "display_name": "mt",
   "language": "python",
   "name": "mt"
  },
  "language_info": {
   "codemirror_mode": {
    "name": "ipython",
    "version": 3
   },
   "file_extension": ".py",
   "mimetype": "text/x-python",
   "name": "python",
   "nbconvert_exporter": "python",
   "pygments_lexer": "ipython3",
   "version": "3.7.6"
  }
 },
 "nbformat": 4,
 "nbformat_minor": 4
}
