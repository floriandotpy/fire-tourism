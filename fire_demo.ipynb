{
 "cells": [
  {
   "cell_type": "code",
   "execution_count": 1,
   "metadata": {},
   "outputs": [],
   "source": [
    "# \n",
    "from glob import glob\n",
    "import os\n",
    "\n",
    "#\n",
    "import numpy as np\n",
    "import pandas as pd\n",
    "import rasterio as rio # for dataset reading\n",
    "import pyproj # for projection stuff\n",
    "from affine import Affine # class for transform matrices\n",
    "\n",
    "# for plotting\n",
    "import cartopy.crs as ccrs # cartopy CRSs\n",
    "import matplotlib.pyplot as plt\n",
    "import matplotlib as mpl\n",
    "\n",
    "# own stuff\n",
    "import fire.dataloader as dlf\n",
    "\n",
    "import fire.utils.modis as um\n",
    "import fire.utils.io as uio"
   ]
  },
  {
   "cell_type": "code",
   "execution_count": 2,
   "metadata": {},
   "outputs": [],
   "source": [
    "data_root = \"../data/\""
   ]
  },
  {
   "cell_type": "code",
   "execution_count": 3,
   "metadata": {},
   "outputs": [
    {
     "name": "stdout",
     "output_type": "stream",
     "text": [
      "Count:   466\n"
     ]
    },
    {
     "data": {
      "text/plain": [
       "['../data/MOD14A1.006/2017.09.30/MOD14A1.A2017273.h17v04.006.2017281233524.hdf',\n",
       " '../data/MOD14A1.006/2015.02.18/MOD14A1.A2015049.h17v04.006.2015296143958.hdf',\n",
       " '../data/MOD14A1.006/2010.04.07/MOD14A1.A2010097.h17v04.006.2015206082441.hdf',\n",
       " '../data/MOD14A1.006/2015.04.15/MOD14A1.A2015105.h17v04.006.2015298224420.hdf',\n",
       " '../data/MOD14A1.006/2016.06.25/MOD14A1.A2016177.h17v04.006.2016187212241.hdf']"
      ]
     },
     "execution_count": 3,
     "metadata": {},
     "output_type": "execute_result"
    }
   ],
   "source": [
    "modis_paths = glob(os.path.join(data_root,\"MOD*/**/*.hdf\"), recursive=True)\n",
    "print(\"Count:  \", len(modis_paths))\n",
    "modis_paths[:5]"
   ]
  },
  {
   "cell_type": "code",
   "execution_count": 4,
   "metadata": {},
   "outputs": [
    {
     "name": "stderr",
     "output_type": "stream",
     "text": [
      "/home/jonas/anaconda3/envs/mt/lib/python3.7/site-packages/rasterio/__init__.py:219: NotGeoreferencedWarning: Dataset has no geotransform set. The identity matrix may be returned.\n",
      "  s = DatasetReader(path, driver=driver, sharing=sharing, **kwargs)\n"
     ]
    },
    {
     "name": "stdout",
     "output_type": "stream",
     "text": [
      "processed 466/466, est. time left: 0.0 m   \n",
      "   total time: 1.83 m\n",
      "\n"
     ]
    }
   ],
   "source": [
    "all_fires = dlf.get_fires(modis_paths)"
   ]
  },
  {
   "cell_type": "code",
   "execution_count": 6,
   "metadata": {},
   "outputs": [
    {
     "name": "stdout",
     "output_type": "stream",
     "text": [
      "(52752, 4)\n"
     ]
    },
    {
     "data": {
      "text/html": [
       "<div>\n",
       "<style scoped>\n",
       "    .dataframe tbody tr th:only-of-type {\n",
       "        vertical-align: middle;\n",
       "    }\n",
       "\n",
       "    .dataframe tbody tr th {\n",
       "        vertical-align: top;\n",
       "    }\n",
       "\n",
       "    .dataframe thead th {\n",
       "        text-align: right;\n",
       "    }\n",
       "</style>\n",
       "<table border=\"1\" class=\"dataframe\">\n",
       "  <thead>\n",
       "    <tr style=\"text-align: right;\">\n",
       "      <th></th>\n",
       "      <th>lat</th>\n",
       "      <th>lon</th>\n",
       "      <th>fire_val</th>\n",
       "      <th>date</th>\n",
       "    </tr>\n",
       "  </thead>\n",
       "  <tbody>\n",
       "    <tr>\n",
       "      <th>0</th>\n",
       "      <td>42.029167</td>\n",
       "      <td>-7.712890</td>\n",
       "      <td>8.0</td>\n",
       "      <td>2017-10-01</td>\n",
       "    </tr>\n",
       "    <tr>\n",
       "      <th>1</th>\n",
       "      <td>42.029167</td>\n",
       "      <td>-7.701672</td>\n",
       "      <td>8.0</td>\n",
       "      <td>2017-10-01</td>\n",
       "    </tr>\n",
       "    <tr>\n",
       "      <th>2</th>\n",
       "      <td>41.845833</td>\n",
       "      <td>-8.149398</td>\n",
       "      <td>8.0</td>\n",
       "      <td>2017-10-02</td>\n",
       "    </tr>\n",
       "    <tr>\n",
       "      <th>3</th>\n",
       "      <td>41.845833</td>\n",
       "      <td>-8.138211</td>\n",
       "      <td>9.0</td>\n",
       "      <td>2017-10-02</td>\n",
       "    </tr>\n",
       "    <tr>\n",
       "      <th>4</th>\n",
       "      <td>41.845833</td>\n",
       "      <td>-8.127025</td>\n",
       "      <td>9.0</td>\n",
       "      <td>2017-10-02</td>\n",
       "    </tr>\n",
       "  </tbody>\n",
       "</table>\n",
       "</div>"
      ],
      "text/plain": [
       "         lat       lon  fire_val       date\n",
       "0  42.029167 -7.712890       8.0 2017-10-01\n",
       "1  42.029167 -7.701672       8.0 2017-10-01\n",
       "2  41.845833 -8.149398       8.0 2017-10-02\n",
       "3  41.845833 -8.138211       9.0 2017-10-02\n",
       "4  41.845833 -8.127025       9.0 2017-10-02"
      ]
     },
     "execution_count": 6,
     "metadata": {},
     "output_type": "execute_result"
    }
   ],
   "source": [
    "print(all_fires.shape)\n",
    "all_fires.head()"
   ]
  },
  {
   "cell_type": "code",
   "execution_count": 8,
   "metadata": {},
   "outputs": [],
   "source": [
    "csv_path = \"fire/data/fires_spain_since_2010.csv\"\n",
    "all_fires.to_csv(csv_path, index=False)"
   ]
  },
  {
   "cell_type": "code",
   "execution_count": 9,
   "metadata": {},
   "outputs": [
    {
     "data": {
      "text/html": [
       "<div>\n",
       "<style scoped>\n",
       "    .dataframe tbody tr th:only-of-type {\n",
       "        vertical-align: middle;\n",
       "    }\n",
       "\n",
       "    .dataframe tbody tr th {\n",
       "        vertical-align: top;\n",
       "    }\n",
       "\n",
       "    .dataframe thead th {\n",
       "        text-align: right;\n",
       "    }\n",
       "</style>\n",
       "<table border=\"1\" class=\"dataframe\">\n",
       "  <thead>\n",
       "    <tr style=\"text-align: right;\">\n",
       "      <th></th>\n",
       "      <th>lat</th>\n",
       "      <th>lon</th>\n",
       "      <th>fire_val</th>\n",
       "      <th>date</th>\n",
       "    </tr>\n",
       "  </thead>\n",
       "  <tbody>\n",
       "    <tr>\n",
       "      <th>0</th>\n",
       "      <td>42.029167</td>\n",
       "      <td>-7.712890</td>\n",
       "      <td>8.0</td>\n",
       "      <td>2017-10-01</td>\n",
       "    </tr>\n",
       "    <tr>\n",
       "      <th>1</th>\n",
       "      <td>42.029167</td>\n",
       "      <td>-7.701672</td>\n",
       "      <td>8.0</td>\n",
       "      <td>2017-10-01</td>\n",
       "    </tr>\n",
       "    <tr>\n",
       "      <th>2</th>\n",
       "      <td>41.845833</td>\n",
       "      <td>-8.149398</td>\n",
       "      <td>8.0</td>\n",
       "      <td>2017-10-02</td>\n",
       "    </tr>\n",
       "    <tr>\n",
       "      <th>3</th>\n",
       "      <td>41.845833</td>\n",
       "      <td>-8.138211</td>\n",
       "      <td>9.0</td>\n",
       "      <td>2017-10-02</td>\n",
       "    </tr>\n",
       "    <tr>\n",
       "      <th>4</th>\n",
       "      <td>41.845833</td>\n",
       "      <td>-8.127025</td>\n",
       "      <td>9.0</td>\n",
       "      <td>2017-10-02</td>\n",
       "    </tr>\n",
       "  </tbody>\n",
       "</table>\n",
       "</div>"
      ],
      "text/plain": [
       "         lat       lon  fire_val        date\n",
       "0  42.029167 -7.712890       8.0  2017-10-01\n",
       "1  42.029167 -7.701672       8.0  2017-10-01\n",
       "2  41.845833 -8.149398       8.0  2017-10-02\n",
       "3  41.845833 -8.138211       9.0  2017-10-02\n",
       "4  41.845833 -8.127025       9.0  2017-10-02"
      ]
     },
     "execution_count": 9,
     "metadata": {},
     "output_type": "execute_result"
    }
   ],
   "source": [
    "pd.read_csv(csv_path).head()"
   ]
  }
 ],
 "metadata": {
  "kernelspec": {
   "display_name": "mt",
   "language": "python",
   "name": "mt"
  },
  "language_info": {
   "codemirror_mode": {
    "name": "ipython",
    "version": 3
   },
   "file_extension": ".py",
   "mimetype": "text/x-python",
   "name": "python",
   "nbconvert_exporter": "python",
   "pygments_lexer": "ipython3",
   "version": "3.7.6"
  }
 },
 "nbformat": 4,
 "nbformat_minor": 4
}
