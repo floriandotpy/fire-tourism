{
 "cells": [
  {
   "cell_type": "code",
   "execution_count": 1,
   "metadata": {},
   "outputs": [],
   "source": [
    "# \n",
    "from glob import glob\n",
    "import os\n",
    "\n",
    "#\n",
    "import numpy as np\n",
    "import pandas as pd\n",
    "import rasterio as rio # for dataset reading\n",
    "import pyproj # for projection stuff\n",
    "from affine import Affine # class for transform matrices\n",
    "\n",
    "# for plotting\n",
    "import cartopy.crs as ccrs # cartopy CRSs\n",
    "import matplotlib.pyplot as plt\n",
    "import matplotlib as mpl\n",
    "\n",
    "# own stuff\n",
    "import fire.dataloader as dlf\n",
    "\n",
    "import fire.utils.modis as um\n",
    "import fire.utils.io as uio"
   ]
  },
  {
   "cell_type": "code",
   "execution_count": 2,
   "metadata": {},
   "outputs": [],
   "source": [
    "data_root = \"/home/jonas/data/\""
   ]
  },
  {
   "cell_type": "code",
   "execution_count": 3,
   "metadata": {},
   "outputs": [
    {
     "name": "stdout",
     "output_type": "stream",
     "text": [
      "Count:   1900\n"
     ]
    },
    {
     "data": {
      "text/plain": [
       "['/home/jonas/data/MOD14A1.006/2017.09.30/MOD14A1.A2017273.h08v05.006.2017281233337.hdf',\n",
       " '/home/jonas/data/MOD14A1.006/2017.09.30/MOD14A1.A2017273.h27v07.006.2017281233132.hdf',\n",
       " '/home/jonas/data/MOD14A1.006/2017.09.30/MOD14A1.A2017273.h26v06.006.2017281233843.hdf',\n",
       " '/home/jonas/data/MOD14A1.006/2017.09.30/MOD14A1.A2017273.h17v04.006.2017281233524.hdf',\n",
       " '/home/jonas/data/MOD14A1.006/2015.02.18/MOD14A1.A2015049.h26v06.006.2015296142739.hdf']"
      ]
     },
     "execution_count": 3,
     "metadata": {},
     "output_type": "execute_result"
    }
   ],
   "source": [
    "modis_paths = glob(os.path.join(data_root,\"MOD*/**/*.hdf\"), recursive=True)\n",
    "print(\"Count:  \", len(modis_paths))\n",
    "modis_paths[:5]"
   ]
  },
  {
   "cell_type": "code",
   "execution_count": null,
   "metadata": {},
   "outputs": [
    {
     "name": "stderr",
     "output_type": "stream",
     "text": [
      "/home/jonas/anaconda3/envs/mt/lib/python3.7/site-packages/rasterio/__init__.py:219: NotGeoreferencedWarning: Dataset has no geotransform set. The identity matrix may be returned.\n",
      "  s = DatasetReader(path, driver=driver, sharing=sharing, **kwargs)\n"
     ]
    },
    {
     "name": "stdout",
     "output_type": "stream",
     "text": [
      "File /home/jonas/data/MOD14A1.006/2014.11.09/MOD14A1.A2014313.h27v07.006.2015292055041.hdf could not be read.\n",
      "File /home/jonas/data/MOD14A1.006/2014.11.01/MOD14A1.A2014305.h27v07.006.2015292060824.hdf could not be read.\n",
      "processed 1854/1900, est. time left: 0.34 m  \r"
     ]
    }
   ],
   "source": [
    "all_fires = dlf.get_fires(modis_paths)"
   ]
  },
  {
   "cell_type": "code",
   "execution_count": 9,
   "metadata": {},
   "outputs": [
    {
     "name": "stdout",
     "output_type": "stream",
     "text": [
      "(777118, 4)\n"
     ]
    },
    {
     "data": {
      "text/html": [
       "<div>\n",
       "<style scoped>\n",
       "    .dataframe tbody tr th:only-of-type {\n",
       "        vertical-align: middle;\n",
       "    }\n",
       "\n",
       "    .dataframe tbody tr th {\n",
       "        vertical-align: top;\n",
       "    }\n",
       "\n",
       "    .dataframe thead th {\n",
       "        text-align: right;\n",
       "    }\n",
       "</style>\n",
       "<table border=\"1\" class=\"dataframe\">\n",
       "  <thead>\n",
       "    <tr style=\"text-align: right;\">\n",
       "      <th></th>\n",
       "      <th>lat</th>\n",
       "      <th>lon</th>\n",
       "      <th>fire_val</th>\n",
       "      <th>date</th>\n",
       "    </tr>\n",
       "  </thead>\n",
       "  <tbody>\n",
       "    <tr>\n",
       "      <th>0</th>\n",
       "      <td>39.770833</td>\n",
       "      <td>-120.775496</td>\n",
       "      <td>9.0</td>\n",
       "      <td>2017-09-30</td>\n",
       "    </tr>\n",
       "    <tr>\n",
       "      <th>1</th>\n",
       "      <td>39.762500</td>\n",
       "      <td>-120.771720</td>\n",
       "      <td>9.0</td>\n",
       "      <td>2017-09-30</td>\n",
       "    </tr>\n",
       "    <tr>\n",
       "      <th>2</th>\n",
       "      <td>39.762500</td>\n",
       "      <td>-120.760879</td>\n",
       "      <td>9.0</td>\n",
       "      <td>2017-09-30</td>\n",
       "    </tr>\n",
       "    <tr>\n",
       "      <th>3</th>\n",
       "      <td>39.762500</td>\n",
       "      <td>-120.750038</td>\n",
       "      <td>8.0</td>\n",
       "      <td>2017-09-30</td>\n",
       "    </tr>\n",
       "    <tr>\n",
       "      <th>4</th>\n",
       "      <td>39.329167</td>\n",
       "      <td>-121.711288</td>\n",
       "      <td>8.0</td>\n",
       "      <td>2017-09-30</td>\n",
       "    </tr>\n",
       "  </tbody>\n",
       "</table>\n",
       "</div>"
      ],
      "text/plain": [
       "         lat         lon  fire_val       date\n",
       "0  39.770833 -120.775496       9.0 2017-09-30\n",
       "1  39.762500 -120.771720       9.0 2017-09-30\n",
       "2  39.762500 -120.760879       9.0 2017-09-30\n",
       "3  39.762500 -120.750038       8.0 2017-09-30\n",
       "4  39.329167 -121.711288       8.0 2017-09-30"
      ]
     },
     "execution_count": 9,
     "metadata": {},
     "output_type": "execute_result"
    }
   ],
   "source": [
    "print(all_fires.shape)\n",
    "all_fires.head()"
   ]
  },
  {
   "cell_type": "code",
   "execution_count": 10,
   "metadata": {},
   "outputs": [],
   "source": [
    "csv_path = \"fire/data/fires_since_2010.csv\"\n",
    "all_fires.to_csv(csv_path, index=False)"
   ]
  },
  {
   "cell_type": "code",
   "execution_count": 8,
   "metadata": {},
   "outputs": [
    {
     "data": {
      "text/html": [
       "<div>\n",
       "<style scoped>\n",
       "    .dataframe tbody tr th:only-of-type {\n",
       "        vertical-align: middle;\n",
       "    }\n",
       "\n",
       "    .dataframe tbody tr th {\n",
       "        vertical-align: top;\n",
       "    }\n",
       "\n",
       "    .dataframe thead th {\n",
       "        text-align: right;\n",
       "    }\n",
       "</style>\n",
       "<table border=\"1\" class=\"dataframe\">\n",
       "  <thead>\n",
       "    <tr style=\"text-align: right;\">\n",
       "      <th></th>\n",
       "      <th>lat</th>\n",
       "      <th>lon</th>\n",
       "      <th>fire_val</th>\n",
       "      <th>date</th>\n",
       "    </tr>\n",
       "  </thead>\n",
       "  <tbody>\n",
       "    <tr>\n",
       "      <th>0</th>\n",
       "      <td>39.770833</td>\n",
       "      <td>-120.775496</td>\n",
       "      <td>9.0</td>\n",
       "      <td>2017-09-30</td>\n",
       "    </tr>\n",
       "    <tr>\n",
       "      <th>1</th>\n",
       "      <td>39.762500</td>\n",
       "      <td>-120.771720</td>\n",
       "      <td>9.0</td>\n",
       "      <td>2017-09-30</td>\n",
       "    </tr>\n",
       "    <tr>\n",
       "      <th>2</th>\n",
       "      <td>39.762500</td>\n",
       "      <td>-120.760879</td>\n",
       "      <td>9.0</td>\n",
       "      <td>2017-09-30</td>\n",
       "    </tr>\n",
       "    <tr>\n",
       "      <th>3</th>\n",
       "      <td>39.762500</td>\n",
       "      <td>-120.750038</td>\n",
       "      <td>8.0</td>\n",
       "      <td>2017-09-30</td>\n",
       "    </tr>\n",
       "    <tr>\n",
       "      <th>4</th>\n",
       "      <td>39.329167</td>\n",
       "      <td>-121.711288</td>\n",
       "      <td>8.0</td>\n",
       "      <td>2017-09-30</td>\n",
       "    </tr>\n",
       "  </tbody>\n",
       "</table>\n",
       "</div>"
      ],
      "text/plain": [
       "         lat         lon  fire_val        date\n",
       "0  39.770833 -120.775496       9.0  2017-09-30\n",
       "1  39.762500 -120.771720       9.0  2017-09-30\n",
       "2  39.762500 -120.760879       9.0  2017-09-30\n",
       "3  39.762500 -120.750038       8.0  2017-09-30\n",
       "4  39.329167 -121.711288       8.0  2017-09-30"
      ]
     },
     "execution_count": 8,
     "metadata": {},
     "output_type": "execute_result"
    }
   ],
   "source": [
    "pd.read_csv(csv_path).head()"
   ]
  }
 ],
 "metadata": {
  "kernelspec": {
   "display_name": "mt",
   "language": "python",
   "name": "mt"
  },
  "language_info": {
   "codemirror_mode": {
    "name": "ipython",
    "version": 3
   },
   "file_extension": ".py",
   "mimetype": "text/x-python",
   "name": "python",
   "nbconvert_exporter": "python",
   "pygments_lexer": "ipython3",
   "version": "3.7.6"
  }
 },
 "nbformat": 4,
 "nbformat_minor": 4
}
